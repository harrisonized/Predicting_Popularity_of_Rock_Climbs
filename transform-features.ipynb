{
 "cells": [
  {
   "cell_type": "markdown",
   "metadata": {},
   "source": [
    "Transforms numerical features for use in regression models"
   ]
  },
  {
   "cell_type": "code",
   "execution_count": null,
   "metadata": {},
   "outputs": [],
   "source": [
    "import pandas as pd\n",
    "from functions.data import transform_features"
   ]
  },
  {
   "cell_type": "code",
   "execution_count": 2,
   "metadata": {},
   "outputs": [],
   "source": [
    "save=True"
   ]
  },
  {
   "cell_type": "markdown",
   "metadata": {},
   "source": [
    "# Set Params"
   ]
  },
  {
   "cell_type": "code",
   "execution_count": 3,
   "metadata": {},
   "outputs": [],
   "source": [
    "data_dir = \"data\"\n",
    "\n",
    "files = [\"buttermilks.csv\",\n",
    "         \"druid_stones.csv\",\n",
    "         \"happy_boulders.csv\",\n",
    "         \"sad_boulders.csv\",\n",
    "         \"joshua_tree.csv\", ]"
   ]
  },
  {
   "cell_type": "markdown",
   "metadata": {},
   "source": [
    "# Transform Features"
   ]
  },
  {
   "cell_type": "code",
   "execution_count": 4,
   "metadata": {},
   "outputs": [],
   "source": [
    "for file in files:\n",
    "    filename = file.split(\".\")[0]\n",
    "    routes_df = pd.read_csv(f\"{data_dir}/{filename}.csv\")\n",
    "    ratings_df = pd.read_csv(f\"{data_dir}/{filename}-ratings.csv\")\n",
    "    df = routes_df.join(ratings_df.set_index('url_id'), on='url_id', how='left')\n",
    "    df = transform_features(df)\n",
    "    \n",
    "    if save:\n",
    "        df[['url_id', \n",
    "            'log_star_ratings', 'log_ticks', 'log_avg_stars', 'log_length', 'log_grade', 'log_on_to_do_lists',\n",
    "            'sqrt_star_ratings', 'sqrt_ticks', 'sqrt_avg_stars', 'sqrt_length', 'sqrt_grade']].to_csv(\n",
    "            f\"{data_dir}/{filename}-transforms.csv\", index=None\n",
    "        )"
   ]
  },
  {
   "cell_type": "code",
   "execution_count": null,
   "metadata": {},
   "outputs": [],
   "source": []
  }
 ],
 "metadata": {
  "kernelspec": {
   "display_name": "Python 3",
   "language": "python",
   "name": "python3"
  },
  "language_info": {
   "codemirror_mode": {
    "name": "ipython",
    "version": 3
   },
   "file_extension": ".py",
   "mimetype": "text/x-python",
   "name": "python",
   "nbconvert_exporter": "python",
   "pygments_lexer": "ipython3",
   "version": "3.7.6"
  }
 },
 "nbformat": 4,
 "nbformat_minor": 2
}
