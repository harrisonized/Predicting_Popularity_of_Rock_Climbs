{
 "cells": [
  {
   "cell_type": "code",
   "execution_count": 1,
   "metadata": {},
   "outputs": [],
   "source": [
    "import numpy as np\n",
    "import pandas as pd\n",
    "import statsmodels.api as sm\n",
    "import seaborn as sns\n",
    "import math\n",
    "import warnings # Turn off warnings\n",
    "warnings.filterwarnings('ignore')"
   ]
  },
  {
   "cell_type": "code",
   "execution_count": 2,
   "metadata": {},
   "outputs": [],
   "source": [
    "# For ordinary-least-squares linear regression\n",
    "def add_log_values(df):\n",
    "    df['Log StarRatings'] = df['StarRatings'].apply(lambda x: math.log(x+1, 10))\n",
    "    df['Log Ticks'] = df['Ticks'].apply(lambda x: math.log(x+1, 10))\n",
    "    df['Log Avg Stars'] = df['Avg Stars'].apply(lambda x: math.log(x+1, 10))\n",
    "    df['Log Length'] = df['Length'].apply(lambda x: math.log(x+1, 10))\n",
    "    df['Log Grade'] = df['Grade'].apply(lambda x: math.log(x+2, 10))\n",
    "    df['Log OnToDoLists'] = df['OnToDoLists'].apply(lambda x: math.log(x+1, 10)) # Target\n",
    "    return df\n",
    "\n",
    "# For Poisson regression\n",
    "def add_sqrt_values(df):\n",
    "    df['Sqrt StarRatings'] = df['StarRatings'].apply(lambda x: math.sqrt(x))\n",
    "    df['Sqrt Ticks'] = df['Ticks'].apply(lambda x: math.sqrt(x))\n",
    "    df['Sqrt Avg Stars'] = df['Avg Stars'].apply(lambda x: math.sqrt(x))\n",
    "    df['Sqrt Length'] = df['Length'].apply(lambda x: math.sqrt(x))\n",
    "    df['Sqrt Grade'] = df['Grade'].apply(lambda x: math.sqrt(x+1)) # Target\n",
    "    return df"
   ]
  },
  {
   "cell_type": "code",
   "execution_count": 3,
   "metadata": {},
   "outputs": [],
   "source": [
    "# Bishop\n",
    "\n",
    "bishop_proc_df = pd.read_csv(r\"Data/Processed CSV/bishop_proc_df.csv\") # Imports\n",
    "bishop_proc_df = bishop_proc_df.drop(columns = [\"Unnamed: 0\"]).dropna()\n",
    "bishop_proc_log_df = add_log_values(bishop_proc_df)\n",
    "bishop_proc_log_sqrt_df = add_sqrt_values(bishop_proc_log_df)\n",
    "bishop_proc_df.to_csv(r\"Data/Processed CSV/bishop_proc_log_sqrt_df.csv\") # Export"
   ]
  },
  {
   "cell_type": "code",
   "execution_count": 4,
   "metadata": {},
   "outputs": [],
   "source": [
    "# Joshua Tree\n",
    "\n",
    "joshua_tree_proc_df = pd.read_csv(r\"Data/Processed CSV/joshua_tree_proc_df.csv\") # Imports\n",
    "joshua_tree_proc_df = joshua_tree_proc_df.drop(columns = [\"Unnamed: 0\"]).dropna()\n",
    "joshua_tree_proc_log_df = add_log_values(joshua_tree_proc_df)\n",
    "joshua_tree_proc_log_sqrt_df = add_sqrt_values(joshua_tree_proc_log_df)\n",
    "joshua_tree_proc_df.to_csv(r\"Data/Processed CSV/joshua_tree_proc_log_sqrt_df.csv\") # Export"
   ]
  }
 ],
 "metadata": {
  "kernelspec": {
   "display_name": "Python 3",
   "language": "python",
   "name": "python3"
  },
  "language_info": {
   "codemirror_mode": {
    "name": "ipython",
    "version": 3
   },
   "file_extension": ".py",
   "mimetype": "text/x-python",
   "name": "python",
   "nbconvert_exporter": "python",
   "pygments_lexer": "ipython3",
   "version": "3.6.8"
  }
 },
 "nbformat": 4,
 "nbformat_minor": 2
}
