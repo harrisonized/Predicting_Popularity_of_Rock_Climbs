{
 "cells": [
  {
   "cell_type": "code",
   "execution_count": 1,
   "metadata": {},
   "outputs": [],
   "source": [
    "import re\n",
    "import pandas as pd\n",
    "import bs4\n",
    "import requests\n",
    "import time\n",
    "import random\n",
    "import warnings # Turn off warnings\n",
    "warnings.filterwarnings('ignore')"
   ]
  },
  {
   "cell_type": "code",
   "execution_count": 2,
   "metadata": {},
   "outputs": [],
   "source": [
    "def collect_data(df):\n",
    "    \"\"\"\n",
    "    Uses the link provided in the CSV file to open and grab data from the following categories: StarRatings, SuggestedRatings, OnToDoLists, and Ticks\n",
    "    \"\"\"\n",
    "    # Add empty columns to df\n",
    "    df[\"StarRatings\"] = 0\n",
    "    df[\"SuggestedRatings\"] = 0\n",
    "    df[\"OnToDoLists\"] = 0\n",
    "    df[\"Ticks\"] = 0\n",
    "    \n",
    "    # Grab data from stats page and appends to df\n",
    "    # Delay is 1.5 +/- 1.0 s, so code should run for about 10-15 min for 400 rows\n",
    "\n",
    "    for i in range(len(df)):\n",
    "        \n",
    "        html = bs4.BeautifulSoup((requests.get(\"https://www.mountainproject.com/route/stats\"+df[\"URL\"][i][37:]).text)) # Get the URL\n",
    "        html_section_list = list(html.find('div', {\"id\":\"route-stats\"}).find_all(\"h3\")) # Grabs the sections tagged \"h3\" in the id = \"route-stats\" section and adds it to a list with the HTML tags\n",
    "        html_text_list = list(map(lambda x: x.text, html_section_list)) # Removes the html tags in html_header_list\n",
    "\n",
    "        # If correct header is found in html_text_list, add the listed number to the dataframe under the correct column. \n",
    "        for j in range(len(html_text_list)):\n",
    "            if 'Star Ratings' in html_text_list[j]:\n",
    "                df[\"StarRatings\"][i] = [int(num) for num in html_text_list[j].split() if num.isdigit()][0]\n",
    "            if 'Suggested Ratings' in html_text_list[j]:\n",
    "                df[\"SuggestedRatings\"][i] = [int(num) for num in html_text_list[j].split() if num.isdigit()][0]\n",
    "            if 'On To-Do Lists' in html_text_list[j]:\n",
    "                df[\"OnToDoLists\"][i] = [int(num) for num in html_text_list[j].split() if num.isdigit()][0]\n",
    "            if 'Ticks' in html_text_list[j]:\n",
    "                df[\"Ticks\"][i] = [int(num) for num in html_text_list[j].split() if num.isdigit()][0]\n",
    "            \n",
    "        time.sleep(.5+2*random.random()) # Delay by average of 2.5 seconds, at least 0.5 seconds between clicks"
   ]
  },
  {
   "cell_type": "code",
   "execution_count": 4,
   "metadata": {},
   "outputs": [],
   "source": [
    "# Bishop, combine the following four files after cleaning\n",
    "\n",
    "buttermilks_df = pd.read_csv(r\"Data/Downloads/buttermilks.csv\")\n",
    "collect_data(buttermilks_df)\n",
    "buttermilks_df.to_csv(r\"Data/Scraped Data/buttermilks_df.csv\")\n",
    "\n",
    "druid_stones_df = pd.read_csv(r\"Data/Downloads/druid_stones.csv\")\n",
    "collect_data(druid_stones_df)\n",
    "druid_stones_df.to_csv(r\"Data/Scraped Data/druid_stones_df.csv\")\n",
    "\n",
    "happy_boulders_df = pd.read_csv(r\"Data/Downloads/happy_boulders.csv\")\n",
    "collect_data(happy_boulders_df)\n",
    "happy_boulders_df.to_csv(r\"Data/Scraped Data/happy_boulders_df.csv\")\n",
    "\n",
    "sad_boulders_df = pd.read_csv(r\"Data/Downloads/sad_boulders.csv\")\n",
    "collect_data(sad_boulders_df)\n",
    "sad_boulders_df.to_csv(r\"Data/Scraped Data/sad_boulders_df.csv\")"
   ]
  },
  {
   "cell_type": "code",
   "execution_count": 5,
   "metadata": {},
   "outputs": [],
   "source": [
    "# Joshua Tree\n",
    "\n",
    "joshua_tree_df = pd.read_csv(r\"Data/Downloads/joshua_tree.csv\")\n",
    "collect_data(joshua_tree_df)\n",
    "joshua_tree_df.to_csv(r\"Data/Scraped Data/joshua_tree_df.csv\")"
   ]
  }
 ],
 "metadata": {
  "kernelspec": {
   "display_name": "Python 3",
   "language": "python",
   "name": "python3"
  },
  "language_info": {
   "codemirror_mode": {
    "name": "ipython",
    "version": 3
   },
   "file_extension": ".py",
   "mimetype": "text/x-python",
   "name": "python",
   "nbconvert_exporter": "python",
   "pygments_lexer": "ipython3",
   "version": "3.6.8"
  }
 },
 "nbformat": 4,
 "nbformat_minor": 2
}
