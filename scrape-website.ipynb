{
 "cells": [
  {
   "cell_type": "code",
   "execution_count": 1,
   "metadata": {},
   "outputs": [],
   "source": [
    "import re\n",
    "import pandas as pd\n",
    "import bs4\n",
    "import requests\n",
    "import time\n",
    "import random\n",
    "import warnings # Turn off warnings\n",
    "warnings.filterwarnings('ignore')"
   ]
  },
  {
   "cell_type": "code",
   "execution_count": 2,
   "metadata": {},
   "outputs": [],
   "source": [
    "def collect_data(df):\n",
    "    \"\"\"\n",
    "    Uses the link provided in the CSV file to open and grab data from the following categories: StarRatings, SuggestedRatings, OnToDoLists, and Ticks\n",
    "    \"\"\"\n",
    "    # Add empty columns to df\n",
    "    df[\"star_ratings\"] = 0\n",
    "    df[\"suggested_ratings\"] = 0\n",
    "    df[\"on_to_do_lists\"] = 0\n",
    "    df[\"ticks\"] = 0\n",
    "    \n",
    "    # Grab data from stats page and appends to df\n",
    "    # Delay is 1.5 +/- 1.0 s, so code should run for about 10-15 min for 400 rows\n",
    "\n",
    "    for i in range(len(df)):\n",
    "        \n",
    "        html = bs4.BeautifulSoup((requests.get(\"https://www.mountainproject.com/route/stats\"+df[\"url\"][i][37:]).text)) # Get the URL\n",
    "        html_section_list = list(html.find('div', {\"id\":\"route-stats\"}).find_all(\"h3\")) # Grabs the sections tagged \"h3\" in the id = \"route-stats\" section and adds it to a list with the HTML tags\n",
    "        html_text_list = list(map(lambda x: x.text, html_section_list)) # Removes the html tags in html_header_list\n",
    "\n",
    "        # If correct header is found in html_text_list, add the listed number to the dataframe under the correct column. \n",
    "        for j in range(len(html_text_list)):\n",
    "            if 'Star Ratings' in html_text_list[j]:\n",
    "                df[\"star_ratings\"][i] = [int(num) for num in html_text_list[j].split() if num.isdigit()][0]\n",
    "            if 'Suggested Ratings' in html_text_list[j]:\n",
    "                df[\"suggested_ratings\"][i] = [int(num) for num in html_text_list[j].split() if num.isdigit()][0]\n",
    "            if 'On To-Do Lists' in html_text_list[j]:\n",
    "                df[\"on_to_do_lists\"][i] = [int(num) for num in html_text_list[j].split() if num.isdigit()][0]\n",
    "            if 'Ticks' in html_text_list[j]:\n",
    "                df[\"ticks\"][i] = [int(num) for num in html_text_list[j].split() if num.isdigit()][0]\n",
    "            \n",
    "        time.sleep(.5+2*random.random()) # Delay by average of 2.5 seconds, at least 0.5 seconds between clicks\n",
    "        \n",
    "    return df"
   ]
  },
  {
   "cell_type": "code",
   "execution_count": 4,
   "metadata": {},
   "outputs": [],
   "source": [
    "buttermilks_clean_df = pd.read_csv(r\"data/clean-data/buttermilks-clean.csv\")\n",
    "buttermilks_scrape_df = collect_data(buttermilks_clean_df)\n",
    "buttermilks_scrape_df.to_csv(r\"data/scraped-data/buttermilks-scrape.csv\", index=None)\n",
    "\n",
    "druid_stones_clean_df = pd.read_csv(r\"data/clean-data/druid_stones-clean.csv\")\n",
    "druid_stones_scrape_df = collect_data(druid_stones_clean_df)\n",
    "druid_stones_scrape_df.to_csv(r\"data/scraped-data/druid_stones-scrape.csv\", index=None)\n",
    "\n",
    "happy_boulders_clean_df = pd.read_csv(r\"data/clean-data/happy_boulders-clean.csv\")\n",
    "happy_boulders_scrape_df = collect_data(happy_boulders_clean_df)\n",
    "happy_boulders_scrape_df.to_csv(r\"data/scraped-data/happy_boulders-scrape.csv\", index=None)\n",
    "\n",
    "sad_boulders_clean_df = pd.read_csv(r\"data/clean-data/sad_boulders-clean.csv\")\n",
    "sad_boulders_scrape_df = collect_data(sad_boulders_clean_df)\n",
    "sad_boulders_scrape_df.to_csv(r\"data/scraped-data/sad_boulders-scrape.csv\", index=None)\n",
    "\n",
    "joshua_tree_clean_df = pd.read_csv(r\"data/downloads/joshua_tree-clean.csv\")\n",
    "joshua_tree_scrape_df = collect_data(joshua_tree_clean_df)\n",
    "joshua_tree_scrape_df.to_csv(r\"data/scraped-data/joshua_tree-scrape.csv\", index=None)"
   ]
  }
 ],
 "metadata": {
  "kernelspec": {
   "display_name": "Python 3",
   "language": "python",
   "name": "python3"
  },
  "language_info": {
   "codemirror_mode": {
    "name": "ipython",
    "version": 3
   },
   "file_extension": ".py",
   "mimetype": "text/x-python",
   "name": "python",
   "nbconvert_exporter": "python",
   "pygments_lexer": "ipython3",
   "version": "3.6.8"
  }
 },
 "nbformat": 4,
 "nbformat_minor": 2
}
