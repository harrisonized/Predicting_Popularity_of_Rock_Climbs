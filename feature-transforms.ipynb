{
 "cells": [
  {
   "cell_type": "code",
   "execution_count": 1,
   "metadata": {},
   "outputs": [],
   "source": [
    "import pandas as pd\n",
    "import math"
   ]
  },
  {
   "cell_type": "code",
   "execution_count": 2,
   "metadata": {},
   "outputs": [],
   "source": [
    "# For ordinary-least-squares linear regression\n",
    "def add_log_values(df):\n",
    "    df['log_star_ratings'] = df['star_ratings'].apply(lambda x: math.log(x+1, 10))\n",
    "    df['log_ticks'] = df['ticks'].apply(lambda x: math.log(x+1, 10))\n",
    "    df['log_avg_stars'] = df['avg_stars'].apply(lambda x: math.log(x+1, 10))\n",
    "    df['log_length'] = df['length_'].apply(lambda x: math.log(x+1, 10))\n",
    "    df['log_grade'] = df['grade'].apply(lambda x: math.log(x+2, 10))\n",
    "    df['log_on_to_do_lists'] = df['on_to_do_lists'].apply(lambda x: math.log(x+1, 10)) # Target\n",
    "    return df\n",
    "\n",
    "# For Poisson regression\n",
    "def add_sqrt_values(df):\n",
    "    df['sqrt_star_ratings'] = df['star_ratings'].apply(lambda x: math.sqrt(x))\n",
    "    df['sqrt_ticks'] = df['ticks'].apply(lambda x: math.sqrt(x))\n",
    "    df['sqrt_avg_stars'] = df['avg_stars'].apply(lambda x: math.sqrt(x))\n",
    "    df['sqrt_length'] = df['length_'].apply(lambda x: math.sqrt(x))\n",
    "    df['sqrt_grade'] = df['grade'].apply(lambda x: math.sqrt(x+1))\n",
    "    return df"
   ]
  },
  {
   "cell_type": "code",
   "execution_count": 3,
   "metadata": {},
   "outputs": [],
   "source": [
    "buttermilks_df = pd.read_csv(r\"data/buttermilks.csv\")\n",
    "buttermilks_scrape_df = pd.read_csv(r\"data/buttermilks-scrape.csv\")\n",
    "buttermilks_df = buttermilks_df.join(buttermilks_scrape_df)\n",
    "\n",
    "buttermilks_log_df = add_log_values(buttermilks_df)\n",
    "buttermilks_log_sqrt_df = add_sqrt_values(buttermilks_log_df)\n",
    "buttermilks_log_sqrt_df[['log_star_ratings', 'log_ticks', 'log_avg_stars', 'log_length', 'log_grade', 'log_on_to_do_lists',\n",
    "                        'sqrt_star_ratings', 'sqrt_ticks', 'sqrt_avg_stars', 'sqrt_length', 'sqrt_grade']].to_csv(r\"data/buttermilks-transform.csv\", index=None)"
   ]
  },
  {
   "cell_type": "code",
   "execution_count": 4,
   "metadata": {},
   "outputs": [],
   "source": [
    "druid_stones_df = pd.read_csv(r\"data/druid_stones.csv\")\n",
    "druid_stones_scrape_df = pd.read_csv(r\"data/druid_stones-scrape.csv\")\n",
    "druid_stones_df = druid_stones_df.join(druid_stones_scrape_df)\n",
    "\n",
    "druid_stones_log_df = add_log_values(druid_stones_df)\n",
    "druid_stones_log_sqrt_df = add_sqrt_values(druid_stones_log_df)\n",
    "druid_stones_log_sqrt_df[['log_star_ratings', 'log_ticks', 'log_avg_stars', 'log_length', 'log_grade', 'log_on_to_do_lists',\n",
    "                        'sqrt_star_ratings', 'sqrt_ticks', 'sqrt_avg_stars', 'sqrt_length', 'sqrt_grade']].to_csv(r\"data/druid_stones-transform.csv\", index=None)"
   ]
  },
  {
   "cell_type": "code",
   "execution_count": 5,
   "metadata": {},
   "outputs": [],
   "source": [
    "happy_boulders_df = pd.read_csv(r\"data/happy_boulders.csv\")\n",
    "happy_boulders_scrape_df = pd.read_csv(r\"data/happy_boulders-scrape.csv\")\n",
    "happy_boulders_df = happy_boulders_df.join(happy_boulders_scrape_df)\n",
    "\n",
    "happy_boulders_log_df = add_log_values(happy_boulders_df)\n",
    "happy_boulders_log_sqrt_df = add_sqrt_values(happy_boulders_log_df)\n",
    "happy_boulders_log_sqrt_df[['log_star_ratings', 'log_ticks', 'log_avg_stars', 'log_length', 'log_grade', 'log_on_to_do_lists',\n",
    "                        'sqrt_star_ratings', 'sqrt_ticks', 'sqrt_avg_stars', 'sqrt_length', 'sqrt_grade']].to_csv(r\"data/happy_boulders-transform.csv\", index=None)"
   ]
  },
  {
   "cell_type": "code",
   "execution_count": 6,
   "metadata": {},
   "outputs": [],
   "source": [
    "sad_boulders_df = pd.read_csv(r\"data/sad_boulders.csv\")\n",
    "sad_boulders_scrape_df = pd.read_csv(r\"data/sad_boulders-scrape.csv\")\n",
    "sad_boulders_df = sad_boulders_df.join(sad_boulders_scrape_df)\n",
    "\n",
    "sad_boulders_log_df = add_log_values(sad_boulders_df)\n",
    "sad_boulders_log_sqrt_df = add_sqrt_values(sad_boulders_log_df)\n",
    "sad_boulders_log_sqrt_df[['log_star_ratings', 'log_ticks', 'log_avg_stars', 'log_length', 'log_grade', 'log_on_to_do_lists',\n",
    "                        'sqrt_star_ratings', 'sqrt_ticks', 'sqrt_avg_stars', 'sqrt_length', 'sqrt_grade']].to_csv(r\"data/sad_boulders-transform.csv\", index=None)"
   ]
  },
  {
   "cell_type": "code",
   "execution_count": 7,
   "metadata": {},
   "outputs": [],
   "source": [
    "joshua_tree_df = pd.read_csv(r\"data/joshua_tree.csv\")\n",
    "joshua_tree_scrape_df = pd.read_csv(r\"data/joshua_tree-scrape.csv\")\n",
    "joshua_tree_df = joshua_tree_df.join(joshua_tree_scrape_df)\n",
    "\n",
    "joshua_tree_log_df = add_log_values(joshua_tree_df)\n",
    "joshua_tree_log_sqrt_df = add_sqrt_values(joshua_tree_log_df)\n",
    "joshua_tree_log_sqrt_df[['log_star_ratings', 'log_ticks', 'log_avg_stars', 'log_length', 'log_grade', 'log_on_to_do_lists',\n",
    "                        'sqrt_star_ratings', 'sqrt_ticks', 'sqrt_avg_stars', 'sqrt_length', 'sqrt_grade']].to_csv(r\"data/joshua_tree-transform.csv\", index=None)"
   ]
  }
 ],
 "metadata": {
  "kernelspec": {
   "display_name": "Python 3",
   "language": "python",
   "name": "python3"
  },
  "language_info": {
   "codemirror_mode": {
    "name": "ipython",
    "version": 3
   },
   "file_extension": ".py",
   "mimetype": "text/x-python",
   "name": "python",
   "nbconvert_exporter": "python",
   "pygments_lexer": "ipython3",
   "version": "3.6.8"
  }
 },
 "nbformat": 4,
 "nbformat_minor": 2
}
