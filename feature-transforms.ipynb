{
 "cells": [
  {
   "cell_type": "code",
   "execution_count": 1,
   "metadata": {},
   "outputs": [],
   "source": [
    "import numpy as np\n",
    "import pandas as pd\n",
    "import statsmodels.api as sm\n",
    "import seaborn as sns\n",
    "import math\n",
    "import warnings # Turn off warnings\n",
    "warnings.filterwarnings('ignore')"
   ]
  },
  {
   "cell_type": "code",
   "execution_count": 2,
   "metadata": {},
   "outputs": [],
   "source": [
    "# For ordinary-least-squares linear regression\n",
    "def add_log_values(df):\n",
    "    df['log_star_ratings'] = df['star_ratings'].apply(lambda x: math.log(x+1, 10))\n",
    "    df['log_ticks'] = df['ticks'].apply(lambda x: math.log(x+1, 10))\n",
    "    df['log_avg_stars'] = df['avg_stars'].apply(lambda x: math.log(x+1, 10))\n",
    "    df['log_length'] = df['length_'].apply(lambda x: math.log(x+1, 10))\n",
    "    df['log_grade'] = df['grade'].apply(lambda x: math.log(x+2, 10))\n",
    "    df['log_on_to_do_lists'] = df['on_to_do_lists'].apply(lambda x: math.log(x+1, 10)) # Target\n",
    "    return df\n",
    "\n",
    "# For Poisson regression\n",
    "def add_sqrt_values(df):\n",
    "    df['sqrt_star_ratings'] = df['star_ratings'].apply(lambda x: math.sqrt(x))\n",
    "    df['sqrt_ticks'] = df['ticks'].apply(lambda x: math.sqrt(x))\n",
    "    df['sqrt_avg_stars'] = df['avg_stars'].apply(lambda x: math.sqrt(x))\n",
    "    df['sqrt_length'] = df['length_'].apply(lambda x: math.sqrt(x))\n",
    "    df['sqrt_grade'] = df['grade'].apply(lambda x: math.sqrt(x+1))\n",
    "    return df"
   ]
  },
  {
   "cell_type": "code",
   "execution_count": 3,
   "metadata": {},
   "outputs": [],
   "source": [
    "buttermilks_scrape_df = pd.read_csv(r\"data/scraped-data/buttermilks-scrape.csv\") # Imports\n",
    "buttermilks_log_df = add_log_values(buttermilks_scrape_df)\n",
    "buttermilks_log_sqrt_df = add_sqrt_values(buttermilks_log_df)\n",
    "buttermilks_log_sqrt_df.to_csv(r\"data/transform-data/buttermilks-transform.csv\", index=None)\n",
    "\n",
    "druid_stones_scrape_df = pd.read_csv(r\"data/scraped-data/druid_stones-scrape.csv\") # Imports\n",
    "druid_stones_log_df = add_log_values(druid_stones_scrape_df)\n",
    "druid_stones_log_sqrt_df = add_sqrt_values(druid_stones_log_df)\n",
    "druid_stones_log_sqrt_df.to_csv(r\"data/transform-data/druid_stones-transform.csv\", index=None)\n",
    "\n",
    "happy_boulders_scrape_df = pd.read_csv(r\"data/scraped-data/happy_boulders-scrape.csv\") # Imports\n",
    "happy_boulders_log_df = add_log_values(happy_boulders_scrape_df)\n",
    "happy_boulders_log_sqrt_df = add_sqrt_values(happy_boulders_log_df)\n",
    "happy_boulders_log_sqrt_df.to_csv(r\"data/transform-data/happy_boulders-transform.csv\", index=None)\n",
    "\n",
    "sad_boulders_scrape_df = pd.read_csv(r\"data/scraped-data/sad_boulders-scrape.csv\") # Imports\n",
    "sad_boulders_log_df = add_log_values(sad_boulders_scrape_df)\n",
    "sad_boulders_log_sqrt_df = add_sqrt_values(sad_boulders_log_df)\n",
    "sad_boulders_log_sqrt_df.to_csv(r\"data/transform-data/sad_boulders-transform.csv\", index=None)\n",
    "\n",
    "joshua_tree_scrape_df = pd.read_csv(r\"data/scraped-data/joshua_tree-scrape.csv\") # Imports\n",
    "joshua_tree_log_df = add_log_values(joshua_tree_scrape_df)\n",
    "joshua_tree_log_sqrt_df = add_sqrt_values(joshua_tree_log_df)\n",
    "joshua_tree_log_sqrt_df.to_csv(r\"data/transform-data/joshua_tree-transform.csv\", index=None)"
   ]
  }
 ],
 "metadata": {
  "kernelspec": {
   "display_name": "Python 3",
   "language": "python",
   "name": "python3"
  },
  "language_info": {
   "codemirror_mode": {
    "name": "ipython",
    "version": 3
   },
   "file_extension": ".py",
   "mimetype": "text/x-python",
   "name": "python",
   "nbconvert_exporter": "python",
   "pygments_lexer": "ipython3",
   "version": "3.6.8"
  }
 },
 "nbformat": 4,
 "nbformat_minor": 2
}
