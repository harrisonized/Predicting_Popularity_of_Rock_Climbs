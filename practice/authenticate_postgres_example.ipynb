{
 "cells": [
  {
   "cell_type": "code",
   "execution_count": 1,
   "metadata": {},
   "outputs": [],
   "source": [
    "import os\n",
    "from configparser import ConfigParser\n",
    "from functions.auth.encryption_tools import generate_new_key, encrypt_message, decrypt_message\n",
    "from functions.auth.connections import postgres_connection\n",
    "\n",
    "INI_KEY = os.getenv('INI_KEY')"
   ]
  },
  {
   "cell_type": "code",
   "execution_count": 2,
   "metadata": {},
   "outputs": [],
   "source": [
    "to_save = False"
   ]
  },
  {
   "cell_type": "markdown",
   "metadata": {},
   "source": [
    "# Example INI Creation"
   ]
  },
  {
   "cell_type": "code",
   "execution_count": 3,
   "metadata": {},
   "outputs": [
    {
     "data": {
      "text/plain": [
       "'gKlnubZgelo78udEec_iySJ78xr3EvEdKEXsCHcXtGs='"
      ]
     },
     "execution_count": 3,
     "metadata": {},
     "output_type": "execute_result"
    }
   ],
   "source": [
    "ini_key = generate_new_key()\n",
    "ini_key"
   ]
  },
  {
   "cell_type": "markdown",
   "metadata": {},
   "source": [
    "# Example Encrypt and Decrypt"
   ]
  },
  {
   "cell_type": "code",
   "execution_count": 4,
   "metadata": {},
   "outputs": [
    {
     "data": {
      "text/plain": [
       "'gAAAAABfhMopYgfSLC6EWq1kHXBOCkc8F8AIvy2YiHNo10allVlfI2PRbYPgEfHEDSPV89mqH-JPqjBhi1ZuOImE9ivyFEQYBg=='"
      ]
     },
     "execution_count": 4,
     "metadata": {},
     "output_type": "execute_result"
    }
   ],
   "source": [
    "secret_enc = encrypt_message('secret', INI_KEY, enc='utf-8')\n",
    "secret_enc"
   ]
  },
  {
   "cell_type": "code",
   "execution_count": 5,
   "metadata": {},
   "outputs": [
    {
     "data": {
      "text/plain": [
       "'secret'"
      ]
     },
     "execution_count": 5,
     "metadata": {},
     "output_type": "execute_result"
    }
   ],
   "source": [
    "secret = decrypt_message(secret_enc, INI_KEY, enc='utf-8')\n",
    "secret"
   ]
  },
  {
   "cell_type": "markdown",
   "metadata": {},
   "source": [
    "# Save Encrypted Credentials"
   ]
  },
  {
   "cell_type": "code",
   "execution_count": 6,
   "metadata": {},
   "outputs": [],
   "source": [
    "cfg = ConfigParser()\n",
    "cfg['postgres'] = {'username': encrypt_message('secret', INI_KEY),\n",
    "                   'password': encrypt_message('secret', INI_KEY),\n",
    "                   'host': encrypt_message('secret', INI_KEY),\n",
    "                   'port': encrypt_message('secret', INI_KEY)}\n",
    "\n",
    "if to_save:\n",
    "    with open('cred/config.ini', 'w') as configfile:\n",
    "        cfg.write(configfile)"
   ]
  },
  {
   "cell_type": "markdown",
   "metadata": {},
   "source": [
    "# Read Credentials"
   ]
  },
  {
   "cell_type": "code",
   "execution_count": 7,
   "metadata": {},
   "outputs": [],
   "source": [
    "connection_uri = postgres_connection()\n",
    "# connection_uri"
   ]
  },
  {
   "cell_type": "code",
   "execution_count": null,
   "metadata": {},
   "outputs": [],
   "source": []
  }
 ],
 "metadata": {
  "kernelspec": {
   "display_name": "Python 3",
   "language": "python",
   "name": "python3"
  },
  "language_info": {
   "codemirror_mode": {
    "name": "ipython",
    "version": 3
   },
   "file_extension": ".py",
   "mimetype": "text/x-python",
   "name": "python",
   "nbconvert_exporter": "python",
   "pygments_lexer": "ipython3",
   "version": "3.7.6"
  }
 },
 "nbformat": 4,
 "nbformat_minor": 2
}
