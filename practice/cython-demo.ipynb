{
 "cells": [
  {
   "cell_type": "markdown",
   "metadata": {},
   "source": [
    "Compare speed between native and cythonized math functions"
   ]
  },
  {
   "cell_type": "code",
   "execution_count": 1,
   "metadata": {},
   "outputs": [],
   "source": [
    "%load_ext Cython"
   ]
  },
  {
   "cell_type": "code",
   "execution_count": 2,
   "metadata": {},
   "outputs": [],
   "source": [
    "%%cython\n",
    "from libc.math cimport log, sqrt\n",
    "def log_c(float x):\n",
    "    return log(x)/2.302585092994046\n",
    "def sqrt_c(float x):\n",
    "    return sqrt(x)"
   ]
  },
  {
   "cell_type": "code",
   "execution_count": 3,
   "metadata": {},
   "outputs": [],
   "source": [
    "import os\n",
    "from os.path import expanduser\n",
    "import pandas as pd\n",
    "import pandas.io.sql as pd_sql\n",
    "import math\n",
    "from functions.auth.connections import postgres_connection\n",
    "\n",
    "connection_uri = postgres_connection('mountain_project')"
   ]
  },
  {
   "cell_type": "code",
   "execution_count": 4,
   "metadata": {},
   "outputs": [],
   "source": [
    "def transform_features(df):\n",
    "    \"\"\" Add log and sqrt values\n",
    "    \"\"\"\n",
    "    # add log values for ols linear regression\n",
    "    df['log_star_ratings'] = df['star_ratings'].apply(lambda x: math.log(x+1, 10))\n",
    "    df['log_ticks'] = df['ticks'].apply(lambda x: math.log(x+1, 10))\n",
    "    df['log_avg_stars'] = df['avg_stars'].apply(lambda x: math.log(x+1, 10))\n",
    "    df['log_length'] = df['length_'].apply(lambda x: math.log(x+1, 10))\n",
    "    df['log_grade'] = df['grade'].apply(lambda x: math.log(x+2, 10))\n",
    "    df['log_on_to_do_lists'] = df['on_to_do_lists'].apply(lambda x: math.log(x+1, 10)) # Target\n",
    "    \n",
    "    # add sqrt values for Poisson regression\n",
    "    df['sqrt_star_ratings'] = df['star_ratings'].apply(lambda x: math.sqrt(x))\n",
    "    df['sqrt_ticks'] = df['ticks'].apply(lambda x: math.sqrt(x))\n",
    "    df['sqrt_avg_stars'] = df['avg_stars'].apply(lambda x: math.sqrt(x))\n",
    "    df['sqrt_length'] = df['length_'].apply(lambda x: math.sqrt(x))\n",
    "    df['sqrt_grade'] = df['grade'].apply(lambda x: math.sqrt(x+1))\n",
    "    \n",
    "    return df\n",
    "\n",
    "\n",
    "def transform_features_cythonized(df):\n",
    "    \"\"\" Add log and sqrt values using cythonized math functions\n",
    "    \"\"\"\n",
    "    # add log values for ols linear regression\n",
    "    df['log_star_ratings'] = df.star_ratings.apply(lambda x: log_c(x+1))\n",
    "    df['log_ticks'] = df.ticks.apply(lambda x: log_c(x+1))\n",
    "    df['log_avg_stars'] = df.avg_stars.apply(lambda x: log_c(x+1))\n",
    "    df['log_length'] = df.length_.apply(lambda x: log_c(x+1))\n",
    "    df['log_grade'] = df.grade.apply(lambda x: log_c(x+2))\n",
    "    df['log_on_to_do_lists'] = df.on_to_do_lists.apply(lambda x: log_c(x+1))\n",
    "    \n",
    "    # add sqrt values for Poisson regression\n",
    "    df['sqrt_star_ratings'] = df.star_ratings.apply(lambda x: sqrt_c(x))\n",
    "    df['sqrt_ticks'] = df.ticks.apply(lambda x: sqrt_c(x))\n",
    "    df['sqrt_avg_stars'] = df.avg_stars.apply(lambda x: sqrt_c(x))\n",
    "    df['sqrt_length'] = df.length_.apply(lambda x: sqrt_c(x))\n",
    "    df['sqrt_grade'] = df.grade.apply(lambda x: sqrt_c(x+1))\n",
    "    \n",
    "    return df"
   ]
  },
  {
   "cell_type": "code",
   "execution_count": 5,
   "metadata": {},
   "outputs": [
    {
     "data": {
      "text/html": [
       "<div>\n",
       "<style scoped>\n",
       "    .dataframe tbody tr th:only-of-type {\n",
       "        vertical-align: middle;\n",
       "    }\n",
       "\n",
       "    .dataframe tbody tr th {\n",
       "        vertical-align: top;\n",
       "    }\n",
       "\n",
       "    .dataframe thead th {\n",
       "        text-align: right;\n",
       "    }\n",
       "</style>\n",
       "<table border=\"1\" class=\"dataframe\">\n",
       "  <thead>\n",
       "    <tr style=\"text-align: right;\">\n",
       "      <th></th>\n",
       "      <th>avg_stars</th>\n",
       "      <th>your_stars</th>\n",
       "      <th>length_</th>\n",
       "      <th>grade</th>\n",
       "      <th>star_ratings</th>\n",
       "      <th>suggested_ratings</th>\n",
       "      <th>on_to_do_lists</th>\n",
       "      <th>ticks</th>\n",
       "    </tr>\n",
       "  </thead>\n",
       "  <tbody>\n",
       "    <tr>\n",
       "      <th>0</th>\n",
       "      <td>1.3</td>\n",
       "      <td>-1</td>\n",
       "      <td>10.0</td>\n",
       "      <td>-1.00</td>\n",
       "      <td>30</td>\n",
       "      <td>5</td>\n",
       "      <td>8</td>\n",
       "      <td>52</td>\n",
       "    </tr>\n",
       "    <tr>\n",
       "      <th>1</th>\n",
       "      <td>2.0</td>\n",
       "      <td>-1</td>\n",
       "      <td>15.0</td>\n",
       "      <td>-1.00</td>\n",
       "      <td>1</td>\n",
       "      <td>1</td>\n",
       "      <td>0</td>\n",
       "      <td>1</td>\n",
       "    </tr>\n",
       "    <tr>\n",
       "      <th>2</th>\n",
       "      <td>2.2</td>\n",
       "      <td>-1</td>\n",
       "      <td>18.0</td>\n",
       "      <td>-0.25</td>\n",
       "      <td>41</td>\n",
       "      <td>6</td>\n",
       "      <td>11</td>\n",
       "      <td>87</td>\n",
       "    </tr>\n",
       "    <tr>\n",
       "      <th>3</th>\n",
       "      <td>2.8</td>\n",
       "      <td>-1</td>\n",
       "      <td>18.0</td>\n",
       "      <td>-0.25</td>\n",
       "      <td>84</td>\n",
       "      <td>20</td>\n",
       "      <td>49</td>\n",
       "      <td>168</td>\n",
       "    </tr>\n",
       "    <tr>\n",
       "      <th>4</th>\n",
       "      <td>1.8</td>\n",
       "      <td>-1</td>\n",
       "      <td>12.0</td>\n",
       "      <td>-0.25</td>\n",
       "      <td>46</td>\n",
       "      <td>15</td>\n",
       "      <td>12</td>\n",
       "      <td>102</td>\n",
       "    </tr>\n",
       "  </tbody>\n",
       "</table>\n",
       "</div>"
      ],
      "text/plain": [
       "   avg_stars  your_stars  length_  grade  star_ratings  suggested_ratings  \\\n",
       "0        1.3          -1     10.0  -1.00            30                  5   \n",
       "1        2.0          -1     15.0  -1.00             1                  1   \n",
       "2        2.2          -1     18.0  -0.25            41                  6   \n",
       "3        2.8          -1     18.0  -0.25            84                 20   \n",
       "4        1.8          -1     12.0  -0.25            46                 15   \n",
       "\n",
       "   on_to_do_lists  ticks  \n",
       "0               8     52  \n",
       "1               0      1  \n",
       "2              11     87  \n",
       "3              49    168  \n",
       "4              12    102  "
      ]
     },
     "execution_count": 5,
     "metadata": {},
     "output_type": "execute_result"
    }
   ],
   "source": [
    "query = \"\"\"\n",
    "SELECT b.avg_stars, b.your_stars, b.length_, b.grade,\n",
    "       r.star_ratings, r.suggested_ratings, r.on_to_do_lists, r.ticks\n",
    "FROM routes b\n",
    "LEFT JOIN ratings r ON b.url_id = r.url_id\n",
    "WHERE b.area_name = 'buttermilks'\n",
    "  AND length_ IS NOT NULL\n",
    "\"\"\"\n",
    "df = pd_sql.read_sql(query, connection_uri) # grab data as a dataframe\n",
    "df.head()"
   ]
  },
  {
   "cell_type": "code",
   "execution_count": 6,
   "metadata": {
    "scrolled": true
   },
   "outputs": [
    {
     "name": "stdout",
     "output_type": "stream",
     "text": [
      "3.15 ms ± 55.7 µs per loop (mean ± std. dev. of 7 runs, 100 loops each)\n"
     ]
    }
   ],
   "source": [
    "%%timeit\n",
    "transform_features(df)"
   ]
  },
  {
   "cell_type": "code",
   "execution_count": 7,
   "metadata": {},
   "outputs": [
    {
     "name": "stdout",
     "output_type": "stream",
     "text": [
      "2.98 ms ± 31.3 µs per loop (mean ± std. dev. of 7 runs, 100 loops each)\n"
     ]
    }
   ],
   "source": [
    "%%timeit\n",
    "transform_features_cythonized(df) # Cythonized math functions are only barely faster"
   ]
  },
  {
   "cell_type": "code",
   "execution_count": null,
   "metadata": {},
   "outputs": [],
   "source": []
  }
 ],
 "metadata": {
  "kernelspec": {
   "display_name": "Python 3",
   "language": "python",
   "name": "python3"
  },
  "language_info": {
   "codemirror_mode": {
    "name": "ipython",
    "version": 3
   },
   "file_extension": ".py",
   "mimetype": "text/x-python",
   "name": "python",
   "nbconvert_exporter": "python",
   "pygments_lexer": "ipython3",
   "version": "3.7.6"
  }
 },
 "nbformat": 4,
 "nbformat_minor": 2
}
