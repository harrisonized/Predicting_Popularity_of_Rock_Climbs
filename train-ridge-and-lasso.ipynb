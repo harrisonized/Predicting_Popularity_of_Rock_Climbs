{
 "cells": [
  {
   "cell_type": "code",
   "execution_count": 1,
   "metadata": {},
   "outputs": [],
   "source": [
    "from statistics import mean, stdev\n",
    "import numpy as np\n",
    "import pandas as pd\n",
    "import pandas.io.sql as pd_sql\n",
    "import matplotlib.pyplot as plt\n",
    "import statsmodels.api as sm\n",
    "# import statsmodels.formula.api as smf\n",
    "from sklearn.model_selection import train_test_split, KFold\n",
    "from sklearn.preprocessing import StandardScaler\n",
    "from sklearn.linear_model import LinearRegression, Lasso, Ridge, lars_path, ElasticNet\n",
    "\n",
    "from functions.plotting import plot_empty, plot_single_scatter\n",
    "\n",
    "with open('.db/postgres.json') as f:\n",
    "    cred = json.load(f)\n",
    "    username = cred.get(\"user\")\n",
    "    password = cred.get(\"password\")\n",
    "    host = cred.get(\"host\")\n",
    "    port = cred.get(\"port\")\n",
    "    \n",
    "db_name = \"mountain_project\"\n",
    "connection_str = f'postgres://{username}:{password}@{host}:{port}/{db_name}' # sqlalchemy connection args"
   ]
  },
  {
   "cell_type": "code",
   "execution_count": 2,
   "metadata": {},
   "outputs": [],
   "source": [
    "save=True"
   ]
  },
  {
   "cell_type": "markdown",
   "metadata": {},
   "source": [
    "# Get Data"
   ]
  },
  {
   "cell_type": "code",
   "execution_count": 3,
   "metadata": {
    "scrolled": true
   },
   "outputs": [
    {
     "data": {
      "text/html": [
       "<div>\n",
       "<style scoped>\n",
       "    .dataframe tbody tr th:only-of-type {\n",
       "        vertical-align: middle;\n",
       "    }\n",
       "\n",
       "    .dataframe tbody tr th {\n",
       "        vertical-align: top;\n",
       "    }\n",
       "\n",
       "    .dataframe thead th {\n",
       "        text-align: right;\n",
       "    }\n",
       "</style>\n",
       "<table border=\"1\" class=\"dataframe\">\n",
       "  <thead>\n",
       "    <tr style=\"text-align: right;\">\n",
       "      <th></th>\n",
       "      <th>avg_stars</th>\n",
       "      <th>length_</th>\n",
       "      <th>grade</th>\n",
       "      <th>star_ratings</th>\n",
       "      <th>on_to_do_lists</th>\n",
       "      <th>ticks</th>\n",
       "    </tr>\n",
       "  </thead>\n",
       "  <tbody>\n",
       "    <tr>\n",
       "      <th>0</th>\n",
       "      <td>1.3</td>\n",
       "      <td>10.0</td>\n",
       "      <td>-1.00</td>\n",
       "      <td>30</td>\n",
       "      <td>8</td>\n",
       "      <td>52</td>\n",
       "    </tr>\n",
       "    <tr>\n",
       "      <th>1</th>\n",
       "      <td>2.0</td>\n",
       "      <td>15.0</td>\n",
       "      <td>-1.00</td>\n",
       "      <td>1</td>\n",
       "      <td>0</td>\n",
       "      <td>1</td>\n",
       "    </tr>\n",
       "    <tr>\n",
       "      <th>2</th>\n",
       "      <td>2.2</td>\n",
       "      <td>18.0</td>\n",
       "      <td>-0.25</td>\n",
       "      <td>41</td>\n",
       "      <td>11</td>\n",
       "      <td>87</td>\n",
       "    </tr>\n",
       "    <tr>\n",
       "      <th>3</th>\n",
       "      <td>2.8</td>\n",
       "      <td>18.0</td>\n",
       "      <td>-0.25</td>\n",
       "      <td>84</td>\n",
       "      <td>49</td>\n",
       "      <td>168</td>\n",
       "    </tr>\n",
       "    <tr>\n",
       "      <th>4</th>\n",
       "      <td>1.8</td>\n",
       "      <td>12.0</td>\n",
       "      <td>-0.25</td>\n",
       "      <td>46</td>\n",
       "      <td>12</td>\n",
       "      <td>102</td>\n",
       "    </tr>\n",
       "  </tbody>\n",
       "</table>\n",
       "</div>"
      ],
      "text/plain": [
       "   avg_stars  length_  grade  star_ratings  on_to_do_lists  ticks\n",
       "0        1.3     10.0  -1.00            30               8     52\n",
       "1        2.0     15.0  -1.00             1               0      1\n",
       "2        2.2     18.0  -0.25            41              11     87\n",
       "3        2.8     18.0  -0.25            84              49    168\n",
       "4        1.8     12.0  -0.25            46              12    102"
      ]
     },
     "execution_count": 3,
     "metadata": {},
     "output_type": "execute_result"
    }
   ],
   "source": [
    "query = \"\"\"\n",
    "SELECT b.avg_stars, b.length_, b.grade,\n",
    "       r.star_ratings, r.on_to_do_lists, r.ticks\n",
    "FROM routes b\n",
    "LEFT JOIN ratings r ON b.url_id = r.url_id\n",
    "WHERE b.area_name IN ('buttermilks', 'druid_stones', 'happy_boulders', 'sad_boulders')\n",
    "  AND length_ IS NOT NULL\n",
    ";\n",
    "\"\"\"\n",
    "data_df = pd_sql.read_sql(query, connection_str) # grab data as a dataframe\n",
    "data_df = data_df.reset_index(drop=True)\n",
    "data_df.head()"
   ]
  },
  {
   "cell_type": "markdown",
   "metadata": {},
   "source": [
    "# Linear Regression"
   ]
  },
  {
   "cell_type": "code",
   "execution_count": 4,
   "metadata": {},
   "outputs": [],
   "source": [
    "# 5-Fold Cross-Validation\n",
    "kf = KFold(n_splits=5, shuffle=True, random_state = 72)\n",
    "scaler = StandardScaler()"
   ]
  },
  {
   "cell_type": "code",
   "execution_count": 5,
   "metadata": {},
   "outputs": [],
   "source": [
    "# Set aside 20% of data for final test\n",
    "features_train_all_df, features_test_all_df, target_train_ser, target_test_ser = train_test_split(data_df.drop(columns = ['on_to_do_lists']), data_df['on_to_do_lists'], test_size=.2, random_state=42)\n",
    "\n",
    "# Choose features, KFold requires ndarray inputs\n",
    "features_list = ['star_ratings', 'ticks', 'avg_stars', 'length_', 'grade']\n",
    "\n",
    "features_train_chosen_df = features_train_all_df[features_list]\n",
    "features_train_chosen_array = np.array(features_train_chosen_df)\n",
    "features_test_chosen_df = features_test_all_df[features_list]\n",
    "features_test_chosen_array = np.array(features_test_chosen_df)\n",
    "target_train_array = np.array(target_train_ser)\n",
    "target_test_array = np.array(target_test_ser)"
   ]
  },
  {
   "cell_type": "code",
   "execution_count": 6,
   "metadata": {},
   "outputs": [
    {
     "name": "stdout",
     "output_type": "stream",
     "text": [
      "[0.870922334805144, 0.7399871526811761, 0.6989487934992048, 0.8098125189399525, 0.8057584444136068]\n",
      "r2_cv_score:  0.7850858488678168  +/-  0.0668209387894904\n",
      "r2_test_score:  0.6426057149839706\n",
      "[ 162.79335556 -119.0719405     3.35828707    0.93340456    0.2348178 ]\n"
     ]
    }
   ],
   "source": [
    "# Scikit Learn's LinearRegression\n",
    "\n",
    "# Initialize Model\n",
    "linreg =  LinearRegression()\n",
    "r2_cv_list = [] # Collect the cross-validation results\n",
    "\n",
    "for train_index, val_cv_index in kf.split(features_train_chosen_array, target_train_array):\n",
    "    \n",
    "    # Make split\n",
    "    features_train_cv_array, target_train_cv_array = features_train_chosen_array[train_index], target_train_array[train_index]\n",
    "    features_val_cv_array, target_val_cv_array = features_train_chosen_array[val_cv_index], target_train_array[val_cv_index] \n",
    "    \n",
    "    # Standard Scaler on Features\n",
    "    features_train_cv_scaled_array = scaler.fit_transform(features_train_cv_array)\n",
    "    features_val_cv_scaled_array = scaler.transform(features_val_cv_array)\n",
    "    \n",
    "    # Fit model\n",
    "    linreg.fit(features_train_cv_scaled_array, target_train_cv_array)\n",
    "    \n",
    "    # Collect results\n",
    "    SSE = sum((target_val_cv_array - linreg.predict(features_val_cv_scaled_array))**2)\n",
    "    SST = sum((target_val_cv_array - np.mean(target_val_cv_array))**2)\n",
    "    r2_cv_score = 1-SSE/SST\n",
    "    r2_cv_list.append(r2_cv_score)\n",
    "\n",
    "print(r2_cv_list)\n",
    "print('r2_cv_score: ', mean(r2_cv_list),' +/- ', stdev(r2_cv_list))\n",
    "\n",
    "# Test\n",
    "features_train_scaled_array = scaler.fit_transform(features_train_chosen_df)\n",
    "features_test_scaled_array = scaler.transform(features_test_chosen_df)\n",
    "linreg.fit(features_train_scaled_array, target_train_ser) # Fit model\n",
    "\n",
    "SSE = sum((target_test_ser - linreg.predict(features_test_scaled_array))**2)\n",
    "SST = sum((target_test_ser - np.mean(target_test_ser))**2)\n",
    "r2_test_score = 1-SSE/SST\n",
    "\n",
    "print('r2_test_score: ', r2_test_score) #Get score\n",
    "print(linreg.coef_)"
   ]
  },
  {
   "cell_type": "code",
   "execution_count": 7,
   "metadata": {},
   "outputs": [
    {
     "name": "stdout",
     "output_type": "stream",
     "text": [
      "[0.8709223348051447, 0.7399871526811767, 0.6989487934992047, 0.8098125189399511, 0.8057584444136074]\n",
      "val_r2_score:  0.785085848867817  +/-  0.06682093878949048\n",
      "test_r2_score:  0.6426057149839713\n",
      "[162.79335555922538, -119.07194050384435, 3.358287071703185, 0.9334045637874373, 0.23481779862511942]\n"
     ]
    }
   ],
   "source": [
    "# Statsmodels OLS\n",
    "\n",
    "r2_cv_list = [] # Collect the cross-validation results\n",
    "\n",
    "for train_index, val_cv_index in kf.split(features_train_chosen_array, target_train_array):\n",
    "    \n",
    "    # Make the split\n",
    "    features_train_cv_array, target_train_cv_array = features_train_chosen_array[train_index], target_train_array[train_index]\n",
    "    features_val_cv_array, target_val_cv_array = features_train_chosen_array[val_cv_index], target_train_array[val_cv_index] \n",
    "    \n",
    "    # Rebalance train features, no need to rebalance validation set, resample is better than smote\n",
    "    features_train_cv_scaled_array = scaler.fit_transform(features_train_cv_array)  # Scale resampled features\n",
    "    features_val_cv_scaled_array = scaler.transform(features_val_cv_array)  # Scale validation features\n",
    "    \n",
    "    ols_model = sm.OLS(target_train_cv_array, sm.add_constant(features_train_cv_scaled_array))\n",
    "    ols_results = ols_model.fit() # Fit model\n",
    "    \n",
    "    # Collect results on the validation set\n",
    "    SSE = sum((target_val_cv_array - ols_results.predict(sm.add_constant(features_val_cv_scaled_array)))**2)\n",
    "    SST = sum((target_val_cv_array - np.mean(target_val_cv_array))**2)\n",
    "    r2_cv_list.append(1-SSE/SST)\n",
    "\n",
    "print(r2_cv_list)\n",
    "print('val_r2_score: ', mean(r2_cv_list),' +/- ', stdev(r2_cv_list))\n",
    "\n",
    "# Test\n",
    "features_train_scaled_array = scaler.fit_transform(features_train_chosen_df)\n",
    "features_test_scaled_array = scaler.transform(features_test_chosen_df)\n",
    "\n",
    "# Fit model\n",
    "ols_model = sm.OLS(target_train_ser, sm.add_constant(features_train_scaled_array))\n",
    "ols_results = ols_model.fit()\n",
    "\n",
    "# Collect results on the test set\n",
    "SSE = sum((target_test_ser - ols_results.predict(sm.add_constant(features_test_scaled_array)))**2)\n",
    "SST = sum((target_test_ser - np.mean(target_test_ser))**2)\n",
    "\n",
    "print('test_r2_score: ', 1-SSE/SST) #Get score\n",
    "print(list(ols_results.params[1:]))"
   ]
  },
  {
   "cell_type": "code",
   "execution_count": 8,
   "metadata": {
    "scrolled": true
   },
   "outputs": [
    {
     "name": "stdout",
     "output_type": "stream",
     "text": [
      "                            OLS Regression Results                            \n",
      "==============================================================================\n",
      "Dep. Variable:         on_to_do_lists   R-squared:                       0.799\n",
      "Model:                            OLS   Adj. R-squared:                  0.798\n",
      "Method:                 Least Squares   F-statistic:                     638.8\n",
      "Date:                Sun, 04 Oct 2020   Prob (F-statistic):          8.91e-277\n",
      "Time:                        21:19:53   Log-Likelihood:                -3755.7\n",
      "No. Observations:                 808   AIC:                             7523.\n",
      "Df Residuals:                     802   BIC:                             7552.\n",
      "Df Model:                           5                                         \n",
      "Covariance Type:            nonrobust                                         \n",
      "==============================================================================\n",
      "                 coef    std err          t      P>|t|      [0.025      0.975]\n",
      "------------------------------------------------------------------------------\n",
      "const         20.1089      0.892     22.545      0.000      18.358      21.860\n",
      "x1           162.7934      6.262     25.996      0.000     150.501     175.086\n",
      "x2          -119.0719      6.190    -19.237      0.000    -131.222    -106.922\n",
      "x3             3.3583      1.144      2.934      0.003       1.112       5.605\n",
      "x4             0.9334      0.960      0.973      0.331      -0.951       2.817\n",
      "x5             0.2348      1.030      0.228      0.820      -1.787       2.257\n",
      "==============================================================================\n",
      "Omnibus:                      763.021   Durbin-Watson:                   2.095\n",
      "Prob(Omnibus):                  0.000   Jarque-Bera (JB):            65336.404\n",
      "Skew:                           3.946   Prob(JB):                         0.00\n",
      "Kurtosis:                      46.340   Cond. No.                         14.5\n",
      "==============================================================================\n",
      "\n",
      "Warnings:\n",
      "[1] Standard Errors assume that the covariance matrix of the errors is correctly specified.\n"
     ]
    }
   ],
   "source": [
    "print(ols_results.summary())"
   ]
  },
  {
   "cell_type": "code",
   "execution_count": 9,
   "metadata": {},
   "outputs": [
    {
     "data": {
      "image/png": "[encoded data removed]",
      "text/plain": [
       "<Figure size 576x360 with 1 Axes>"
      ]
     },
     "metadata": {
      "needs_background": "light"
     },
     "output_type": "display_data"
    }
   ],
   "source": [
    "x = ols_results.predict(sm.add_constant(features_test_scaled_array))\n",
    "y = target_test_ser\n",
    "feature_target_df = pd.DataFrame({'predicted': x, 'observed': y})\n",
    "\n",
    "fig = plot_single_scatter(feature_target_df, 'predicted', 'observed',\n",
    "                          xlabel='Predicted', ylabel='Observed',\n",
    "                          color=None)\n",
    "plt.plot([0, 500], [0, 500], c='orange', lw = 2, ls='--', label= \"Equal\")\n",
    "\n",
    "if save:\n",
    "    plt.savefig(\"figures/linear/observed-vs-predicted.png\", transparent=True, bbox_inches=\"tight\")"
   ]
  },
  {
   "cell_type": "markdown",
   "metadata": {},
   "source": [
    "# Ridge"
   ]
  },
  {
   "cell_type": "code",
   "execution_count": 10,
   "metadata": {},
   "outputs": [
    {
     "name": "stdout",
     "output_type": "stream",
     "text": [
      "1.6032453906900417\n"
     ]
    }
   ],
   "source": [
    "# Ridge Gridsearch\n",
    "\n",
    "alpha_list = 10**(np.linspace(-2,5,201)) # Generate a list of 10^(x) \n",
    "mae_list, r2_list, coefs_list = [], [], []\n",
    "\n",
    "for i,curr_alpha in enumerate(alpha_list):\n",
    "    \n",
    "    # Initialize Model\n",
    "    ridgereg = Ridge(alpha = curr_alpha, random_state=123)\n",
    "    mae_cv_list, r2_cv_list, coefs_cv_list = [], [], [] # Collect the cross-validation results\n",
    "    \n",
    "    for train_index, val_index in kf.split(features_train_chosen_array, target_train_array):\n",
    "        \n",
    "        # Make split\n",
    "        features_train_cv_array, target_train_cv_array = features_train_chosen_array[train_index], target_train_array[train_index]\n",
    "        features_val_cv_array, target_val_cv_array = features_train_chosen_array[val_index], target_train_array[val_index] \n",
    "\n",
    "        # Standard Scaler on Features\n",
    "        features_train_cv_scaled_array = scaler.fit_transform(features_train_cv_array)\n",
    "        features_val_cv_scaled_array = scaler.transform(features_val_cv_array)\n",
    "\n",
    "        # Fit model\n",
    "        ridgereg.fit(features_train_cv_scaled_array, target_train_cv_array)\n",
    "        target_val_cv_predict_array = ridgereg.predict(features_val_cv_scaled_array)\n",
    "        \n",
    "        # Collect results\n",
    "        mae_cv_list.append(np.mean(np.abs(target_val_cv_predict_array - target_val_cv_array)))\n",
    "        r2_cv_list.append(ridgereg.score(features_val_cv_scaled_array, target_val_cv_array))\n",
    "        coefs_cv_list.append(ridgereg.coef_)\n",
    "        \n",
    "    # Collect Results Average for K-Fold Cross Validation\n",
    "    mae_list.append(np.mean(mae_cv_list))\n",
    "    r2_list.append(mean(r2_cv_list))\n",
    "    coefs_cv_array = np.stack(coefs_cv_list, axis = 0)\n",
    "    coefs_cv_mean_array = np.mean(coefs_cv_array, axis = 0)\n",
    "    coefs_list.append(coefs_cv_mean_array)\n",
    "    \n",
    "# Print alpha value that gave the lowest mean absolute error\n",
    "alpha_min_mae = alpha_list[np.argmin(mae_list)]\n",
    "print(alpha_min_mae)"
   ]
  },
  {
   "cell_type": "code",
   "execution_count": 11,
   "metadata": {},
   "outputs": [
    {
     "data": {
      "image/png": "[encoded data removed]",
      "text/plain": [
       "<Figure size 432x288 with 1 Axes>"
      ]
     },
     "metadata": {
      "needs_background": "light"
     },
     "output_type": "display_data"
    },
    {
     "data": {
      "image/png": "[encoded data removed]",
      "text/plain": [
       "<Figure size 432x288 with 1 Axes>"
      ]
     },
     "metadata": {
      "needs_background": "light"
     },
     "output_type": "display_data"
    }
   ],
   "source": [
    "# plot validation error with changing alpha\n",
    "alpha_mae_df = pd.DataFrame({'alpha': alpha_list, 'mean_absolute_error': mae_list})\n",
    "fig, ax = plot_empty(xlabel='alpha', ylabel='mean absolute error', figsize=None)\n",
    "ax.plot(alpha_list, mae_list)\n",
    "ax.set_xscale('log')\n",
    "ax.set_xlim(ax.get_xlim()[::-1])\n",
    "if save:\n",
    "    plt.savefig(\"figures/ridge/mae-vs-alpha.png\", transparent=True, bbox_inches=\"tight\")\n",
    "    \n",
    "# Plot the coefficients as the alphas change\n",
    "fig, ax = plot_empty(xlabel='alpha', ylabel='weights',\n",
    "                     title='Ridge coefficients as a function of the regularization',\n",
    "                     figsize=None,\n",
    "                    )\n",
    "ax.plot(alpha_list, coefs_list[:])\n",
    "ax.set_xscale('log')\n",
    "ax.set_xlim(ax.get_xlim()[::-1])  # reverse axis\n",
    "plt.legend(features_train_chosen_df.columns)\n",
    "plt.axis('tight')\n",
    "if save:\n",
    "    plt.savefig(\"figures/ridge/weights-vs-alpha.png\", transparent=True, bbox_inches=\"tight\")"
   ]
  },
  {
   "cell_type": "markdown",
   "metadata": {},
   "source": [
    "Optimal Ridge Regression"
   ]
  },
  {
   "cell_type": "code",
   "execution_count": 12,
   "metadata": {
    "scrolled": true
   },
   "outputs": [
    {
     "name": "stdout",
     "output_type": "stream",
     "text": [
      "[0.8702136451775294, 0.7311377788741845, 0.6806860129977363, 0.7965607342562644, 0.8506887116156361]\n",
      "val_r2_score:  0.7858573765842701  +/-  0.07982620811892929\n",
      "test_r2_score:  0.6582658734198538\n",
      "[139.91491423 -96.50583641   4.43967005   1.17183445   0.60434823]\n"
     ]
    }
   ],
   "source": [
    "# Ridge Regression\n",
    "ridgereg = Ridge(alpha=alpha_min_mae)\n",
    "\n",
    "# KFold Cross-Validation\n",
    "cv_r2_list = [] # Collect the cross-validation results\n",
    "\n",
    "for train_index, val_cv_index in kf.split(features_train_chosen_array, target_train_array):\n",
    "    \n",
    "    # Make the split\n",
    "    features_train_cv_array, target_train_cv_array = features_train_chosen_array[train_index], target_train_array[train_index]\n",
    "    features_val_cv_array, target_val_cv_array = features_train_chosen_array[val_cv_index], target_train_array[val_cv_index] \n",
    "    \n",
    "    # Rebalance train features, no need to rebalance validation set, resample is better than smote\n",
    "    features_train_cv_scaled_array = scaler.fit_transform(features_train_cv_array)  # Scale resampled features\n",
    "    features_val_cv_scaled_array = scaler.transform(features_val_cv_array)  # Scale validation features\n",
    "    \n",
    "    ridgereg.fit(features_train_cv_scaled_array, target_train_cv_array) # Fit model\n",
    "    cv_r2_list.append(ridgereg.score(features_val_cv_scaled_array, target_val_cv_array)) # Collect results\n",
    "\n",
    "print(cv_r2_list)\n",
    "print('val_r2_score: ', mean(cv_r2_list),' +/- ', stdev(cv_r2_list))\n",
    "\n",
    "# Test\n",
    "features_train_scaled_array = scaler.fit_transform(features_train_chosen_df)\n",
    "features_test_scaled_array = scaler.transform(features_test_chosen_df)\n",
    "ridgereg.fit(features_train_scaled_array, target_train_ser) # Fit model\n",
    "\n",
    "print('test_r2_score: ', ridgereg.score(features_test_scaled_array, target_test_ser)) #Get score\n",
    "print(ridgereg.coef_)"
   ]
  },
  {
   "cell_type": "code",
   "execution_count": 13,
   "metadata": {},
   "outputs": [
    {
     "data": {
      "image/png": "[encoded data removed]",
      "text/plain": [
       "<Figure size 576x360 with 1 Axes>"
      ]
     },
     "metadata": {
      "needs_background": "light"
     },
     "output_type": "display_data"
    }
   ],
   "source": [
    "x = ridgereg.predict(features_test_scaled_array)\n",
    "y = target_test_ser\n",
    "feature_target_df = pd.DataFrame({'predicted': x, 'observed': y})\n",
    "\n",
    "fig = plot_single_scatter(feature_target_df, 'predicted', 'observed',\n",
    "                          xlabel='Predicted', ylabel='Observed',\n",
    "                          color=None)\n",
    "plt.plot([0, 500], [0, 500], c='orange', lw = 2, ls='--', label= \"Equal\")\n",
    "\n",
    "if save:\n",
    "    plt.savefig(\"figures/ridge/observed-vs-predicted.png\", transparent=True, bbox_inches=\"tight\")"
   ]
  },
  {
   "cell_type": "markdown",
   "metadata": {},
   "source": [
    "# Lasso"
   ]
  },
  {
   "cell_type": "code",
   "execution_count": 14,
   "metadata": {},
   "outputs": [
    {
     "name": "stdout",
     "output_type": "stream",
     "text": [
      "0.4466835921509635\n"
     ]
    }
   ],
   "source": [
    "# Lasso Gridsearch\n",
    "\n",
    "alpha_list = 10**(np.linspace(-5,0,201)) # Generate a list of 10^(x) \n",
    "mae_list, r2_list, coefs_list = [], [], []\n",
    "\n",
    "for i,curr_alpha in enumerate(alpha_list):\n",
    "    \n",
    "    # Initialize Model\n",
    "    lasso_model = Lasso(alpha = curr_alpha, random_state=123)\n",
    "    \n",
    "    mae_cv_list, r2_cv_list, coefs_cv_list = [], [], [] # Collect the cross-validation results\n",
    "    \n",
    "    for train_index, val_cv_index in kf.split(features_train_chosen_array, target_train_array):\n",
    "        \n",
    "        # Make split\n",
    "        features_train_cv_array, target_train_cv_array = features_train_chosen_array[train_index], target_train_array[train_index]\n",
    "        features_val_cv_array, target_val_cv_array = features_train_chosen_array[val_cv_index], target_train_array[val_cv_index] \n",
    "\n",
    "        # Standard Scaler on Features\n",
    "        features_train_cv_scaled_array = scaler.fit_transform(features_train_cv_array)\n",
    "        features_val_cv_scaled_array = scaler.transform(features_val_cv_array)\n",
    "\n",
    "        # Fit model\n",
    "        lasso_model.fit(features_train_cv_scaled_array, target_train_cv_array)\n",
    "        target_val_cv_predict_array = lasso_model.predict(features_val_cv_scaled_array)\n",
    "        \n",
    "        # Collect results\n",
    "        mae_cv_list.append(np.mean(np.abs(target_val_cv_predict_array - target_val_cv_array)))\n",
    "        r2_cv_list.append(lasso_model.score(features_val_cv_scaled_array, target_val_cv_array))\n",
    "        coefs_cv_list.append(lasso_model.coef_)\n",
    "        \n",
    "    # Collect Results Average for K-Fold Cross Validation\n",
    "    mae_list.append(np.mean(mae_cv_list))\n",
    "    r2_list.append(mean(r2_cv_list))\n",
    "    coefs_cv_array = np.stack(coefs_cv_list, axis = 0)\n",
    "    coefs_cv_mean_array = np.mean(coefs_cv_array, axis = 0)\n",
    "    coefs_list.append(coefs_cv_mean_array)\n",
    "\n",
    "# Print alpha value that gave the lowest mean absolute error\n",
    "alpha_min_mae = alpha_list[np.argmin(mae_list)]\n",
    "print(alpha_min_mae)"
   ]
  },
  {
   "cell_type": "code",
   "execution_count": 15,
   "metadata": {},
   "outputs": [
    {
     "data": {
      "image/png": "[encoded data removed]",
      "text/plain": [
       "<Figure size 432x288 with 1 Axes>"
      ]
     },
     "metadata": {
      "needs_background": "light"
     },
     "output_type": "display_data"
    },
    {
     "data": {
      "image/png": "[encoded data removed]",
      "text/plain": [
       "<Figure size 432x288 with 1 Axes>"
      ]
     },
     "metadata": {
      "needs_background": "light"
     },
     "output_type": "display_data"
    }
   ],
   "source": [
    "# plot validation error with changing alpha\n",
    "alpha_mae_df = pd.DataFrame({'alpha': alpha_list, 'mean_absolute_error': mae_list})\n",
    "fig, ax = plot_empty(xlabel='alpha', ylabel='mean absolute error', figsize=None)\n",
    "ax.plot(alpha_list, mae_list)\n",
    "ax.set_xscale('log')\n",
    "ax.set_xlim(ax.get_xlim()[::-1])\n",
    "if save:\n",
    "    plt.savefig(\"figures/lasso/mae-vs-alpha.png\", transparent=True, bbox_inches=\"tight\")\n",
    "    \n",
    "# Plot the coefficients as the alphas change\n",
    "fig, ax = plot_empty(xlabel='alpha', ylabel='weights',\n",
    "                     title='Lasso coefficients as a function of the regularization',\n",
    "                     figsize=None\n",
    "                    )\n",
    "ax.plot(alpha_list, coefs_list[:])\n",
    "ax.set_xscale('log')\n",
    "ax.set_xlim(ax.get_xlim()[::-1])  # reverse axis\n",
    "plt.legend(features_train_chosen_df.columns)\n",
    "plt.axis('tight')\n",
    "\n",
    "if save:\n",
    "    plt.savefig(\"figures/lasso/weights-vs-alpha.png\", transparent=True, bbox_inches=\"tight\")"
   ]
  },
  {
   "cell_type": "markdown",
   "metadata": {},
   "source": [
    "Optimize Lasso Regression"
   ]
  },
  {
   "cell_type": "code",
   "execution_count": 16,
   "metadata": {},
   "outputs": [
    {
     "name": "stdout",
     "output_type": "stream",
     "text": [
      "[0.8649885404332671, 0.7202993142291523, 0.6628631104482472, 0.7859257549212856, 0.862695767056914]\n",
      "val_r2_score:  0.7793544974177732  +/-  0.08857185765375242\n",
      "test_r2_score:  0.6646699046091015\n",
      "[120.74689983 -77.46670644   5.10345806   1.06560837   0.65572587]\n"
     ]
    }
   ],
   "source": [
    "# Lasso\n",
    "lasso_model = Lasso(alpha = alpha_min_mae)\n",
    "\n",
    "# KFold Cross-Validation\n",
    "\n",
    "cv_r2_list = [] # Collect the cross-validation results\n",
    "\n",
    "for train_index, val_cv_index in kf.split(features_train_chosen_array, target_train_array):\n",
    "    \n",
    "    # Make the split\n",
    "    features_train_cv_array, target_train_cv_array = features_train_chosen_array[train_index], target_train_array[train_index]\n",
    "    features_val_cv_array, target_val_cv_array = features_train_chosen_array[val_cv_index], target_train_array[val_cv_index] \n",
    "    \n",
    "    # Rebalance train features, no need to rebalance validation set, resample is better than smote\n",
    "    features_train_cv_scaled_array = scaler.fit_transform(features_train_cv_array)  # Scale resampled features\n",
    "    features_val_cv_scaled_array = scaler.transform(features_val_cv_array)  # Scale validation features\n",
    "    \n",
    "    lasso_model.fit(features_train_cv_scaled_array, target_train_cv_array) # Fit model\n",
    "    cv_r2_list.append(lasso_model.score(features_val_cv_scaled_array, target_val_cv_array)) # Collect results\n",
    "    \n",
    "print(cv_r2_list)\n",
    "print('val_r2_score: ', mean(cv_r2_list),' +/- ', stdev(cv_r2_list))\n",
    "\n",
    "# Test\n",
    "features_train_scaled_array = scaler.fit_transform(features_train_chosen_df)\n",
    "features_test_scaled_array = scaler.transform(features_test_chosen_df)\n",
    "lasso_model.fit(features_train_scaled_array, target_train_ser) # Fit model\n",
    "\n",
    "print('test_r2_score: ', lasso_model.score(features_test_scaled_array, target_test_ser)) #Get score\n",
    "print(lasso_model.coef_) #Get score"
   ]
  },
  {
   "cell_type": "code",
   "execution_count": 17,
   "metadata": {},
   "outputs": [
    {
     "data": {
      "image/png": "[encoded data removed]",
      "text/plain": [
       "<Figure size 576x360 with 1 Axes>"
      ]
     },
     "metadata": {
      "needs_background": "light"
     },
     "output_type": "display_data"
    }
   ],
   "source": [
    "x = lasso_model.predict(features_test_scaled_array)\n",
    "y = target_test_ser\n",
    "feature_target_df = pd.DataFrame({'predicted': x, 'observed': y})\n",
    "\n",
    "fig = plot_single_scatter(feature_target_df, 'predicted', 'observed',\n",
    "                          xlabel='Predicted', ylabel='Observed',\n",
    "                          color=None)\n",
    "plt.plot([0, 500], [0, 500], c='orange', lw = 2, ls='--', label= \"Equal\")\n",
    "\n",
    "if save:\n",
    "    plt.savefig(\"figures/lasso/observed-vs-predicted.png\", transparent=True, bbox_inches=\"tight\")"
   ]
  },
  {
   "cell_type": "code",
   "execution_count": 18,
   "metadata": {},
   "outputs": [
    {
     "data": {
      "image/png": "[encoded data removed]",
      "text/plain": [
       "<Figure size 576x360 with 1 Axes>"
      ]
     },
     "metadata": {
      "needs_background": "light"
     },
     "output_type": "display_data"
    }
   ],
   "source": [
    "# Compute regularization path for Lasso using the LARS\n",
    "alphas_array, active_indices_list, coefs_array = lars_path(features_train_scaled_array, target_train_ser.values, method='lasso')\n",
    "x = np.sum(np.abs(coefs_array.T), axis=1)\n",
    "x /= x.max() # normalize by max\n",
    "\n",
    "# Plot\n",
    "fig = plot_empty('|coef| / max|coef|', 'Coefficients', 'LASSO Path')\n",
    "plt.plot(x, coefs_array.T)\n",
    "ymin, ymax = plt.ylim()\n",
    "plt.vlines(x, ymin, ymax, linestyle='dashed')\n",
    "plt.axis('tight')\n",
    "plt.legend(features_train_chosen_df.columns)\n",
    "\n",
    "if save:\n",
    "    plt.savefig(\"figures/lasso/lasso-lars-path.png\", transparent=True, bbox_inches=\"tight\")"
   ]
  },
  {
   "cell_type": "markdown",
   "metadata": {},
   "source": [
    "# ElasticNet"
   ]
  },
  {
   "cell_type": "code",
   "execution_count": 19,
   "metadata": {},
   "outputs": [
    {
     "name": "stdout",
     "output_type": "stream",
     "text": [
      "[0.7001556134497001, 0.6866512457870225, 0.5078448644220708, 0.6093298506423471, 0.8157690370939162]\n",
      "val_r2_score:  0.6639501222790114  +/-  0.11426656017757014\n",
      "test_r2_score:  0.6593465705847543\n",
      "[19.75126582 13.75492299  8.23331939  2.12203698  1.26873922]\n"
     ]
    }
   ],
   "source": [
    "# ElasticNet\n",
    "elastic_net = ElasticNet(random_state=1)\n",
    "\n",
    "# KFold Cross-Validation\n",
    "cv_r2_list = [] # Collect the cross-validation results\n",
    "\n",
    "for train_index, val_cv_index in kf.split(features_train_chosen_array, target_train_array):\n",
    "    \n",
    "    # Make the split\n",
    "    features_train_cv_array, target_train_cv_array = features_train_chosen_array[train_index], target_train_array[train_index]\n",
    "    features_val_cv_array, target_val_cv_array = features_train_chosen_array[val_cv_index], target_train_array[val_cv_index] \n",
    "    \n",
    "    # Rebalance train features, no need to rebalance validation set, resample is better than smote\n",
    "    features_train_cv_scaled_array = scaler.fit_transform(features_train_cv_array)  # Scale resampled features\n",
    "    features_val_cv_scaled_array = scaler.transform(features_val_cv_array)  # Scale validation features\n",
    "    \n",
    "    elastic_net.fit(features_train_cv_scaled_array, target_train_cv_array) # Fit model\n",
    "    cv_r2_list.append(elastic_net.score(features_val_cv_scaled_array, target_val_cv_array)) # Collect results\n",
    "    \n",
    "print(cv_r2_list)\n",
    "print('val_r2_score: ', mean(cv_r2_list),' +/- ', stdev(cv_r2_list))\n",
    "\n",
    "# Test\n",
    "features_train_scaled_array = scaler.fit_transform(features_train_chosen_df)\n",
    "features_test_scaled_array = scaler.transform(features_test_chosen_df)\n",
    "elastic_net.fit(features_train_scaled_array, target_train_ser) # Fit model\n",
    "\n",
    "print('test_r2_score: ', elastic_net.score(features_test_scaled_array, target_test_ser)) #Get score\n",
    "print(elastic_net.coef_)"
   ]
  },
  {
   "cell_type": "code",
   "execution_count": 20,
   "metadata": {},
   "outputs": [
    {
     "name": "stdout",
     "output_type": "stream",
     "text": [
      "[0.6871345612574634, 0.6917005850597873, 0.49062326526523714, 0.5882322121580693, 0.7895719265480204]\n",
      "val_r2_score:  0.6494525100577155  +/-  0.1138122813867808\n",
      "test_r2_score:  0.6455970848299133\n",
      "[19.750482848048794, 13.755394595294872, 8.233415129570187, 2.1220489439078367, 1.2687052588142056]\n"
     ]
    }
   ],
   "source": [
    "# Statsmodels Elastic Net\n",
    "\n",
    "r2_cv_list = [] # Collect the cross-validation results\n",
    "\n",
    "for train_index, val_cv_index in kf.split(features_train_chosen_array, target_train_array):\n",
    "    \n",
    "    # Make the split\n",
    "    features_train_cv_array, target_train_cv_array = features_train_chosen_array[train_index], target_train_array[train_index]\n",
    "    features_val_cv_array, target_val_cv_array = features_train_chosen_array[val_cv_index], target_train_array[val_cv_index] \n",
    "    \n",
    "    # Rebalance train features, no need to rebalance validation set, resample is better than smote\n",
    "    features_train_cv_scaled_array = scaler.fit_transform(features_train_cv_array)  # Scale resampled features\n",
    "    features_val_cv_scaled_array = scaler.transform(features_val_cv_array)  # Scale validation features\n",
    "    \n",
    "    ols_model = sm.OLS(target_train_cv_array, sm.add_constant(features_train_cv_scaled_array))\n",
    "    ols_results = ols_model.fit_regularized(alpha=1, L1_wt = 0.5) # Fit model\n",
    "    \n",
    "    # Collect results on the validation set\n",
    "    SSE = sum((target_val_cv_array - ols_results.predict(sm.add_constant(features_val_cv_scaled_array)))**2)\n",
    "    SST = sum((target_val_cv_array - np.mean(target_val_cv_array))**2)\n",
    "    r2_cv_list.append(1-SSE/SST)\n",
    "\n",
    "print(r2_cv_list)\n",
    "print('val_r2_score: ', mean(r2_cv_list),' +/- ', stdev(r2_cv_list))\n",
    "\n",
    "# Test\n",
    "features_train_scaled_array = scaler.fit_transform(features_train_chosen_df)\n",
    "features_test_scaled_array = scaler.transform(features_test_chosen_df)\n",
    "\n",
    "# Fit model\n",
    "ols_model = sm.OLS(target_train_ser, sm.add_constant(features_train_scaled_array))\n",
    "ols_results = ols_model.fit_regularized(alpha=1, L1_wt = 0.5)\n",
    "\n",
    "# Collect results on the test set\n",
    "SSE = sum((target_test_ser - ols_results.predict(sm.add_constant(features_test_scaled_array)))**2)\n",
    "SST = sum((target_test_ser - np.mean(target_test_ser))**2)\n",
    "\n",
    "print('test_r2_score: ', 1-SSE/SST) #Get score\n",
    "print(list(ols_results.params[1:]))"
   ]
  },
  {
   "cell_type": "code",
   "execution_count": null,
   "metadata": {},
   "outputs": [],
   "source": []
  }
 ],
 "metadata": {
  "kernelspec": {
   "display_name": "Python 3",
   "language": "python",
   "name": "python3"
  },
  "language_info": {
   "codemirror_mode": {
    "name": "ipython",
    "version": 3
   },
   "file_extension": ".py",
   "mimetype": "text/x-python",
   "name": "python",
   "nbconvert_exporter": "python",
   "pygments_lexer": "ipython3",
   "version": "3.7.6"
  }
 },
 "nbformat": 4,
 "nbformat_minor": 2
}